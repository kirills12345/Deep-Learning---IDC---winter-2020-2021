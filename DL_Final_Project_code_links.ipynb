{
  "nbformat": 4,
  "nbformat_minor": 0,
  "metadata": {
    "colab": {
      "name": "DL_Final_Project_code_links.ipynb",
      "provenance": []
    },
    "kernelspec": {
      "name": "python3",
      "display_name": "Python 3"
    },
    "accelerator": "GPU"
  },
  "cells": [
    {
      "cell_type": "markdown",
      "metadata": {
        "id": "koI2hn-w07Cb"
      },
      "source": [
        "# Colab Notebooks\n",
        "\n",
        "Data Pre-Processing (with duplicates):\n",
        "https://colab.research.google.com/drive/1sVV2fRpzOYya33p0icJa86ElHVi5fIsi#scrollTo=cWtoc72FrUd7\n",
        "\n",
        "Data Pre-Processing (without duplicates):\n",
        "https://colab.research.google.com/drive/1g8pQrKCJ-65alk8EaktFszM4TyA_5Yae#scrollTo=YhPRt6-WhkEw\n",
        "\n",
        "Convnet Version 1:\n",
        "https://colab.research.google.com/drive/1a64PyNdPI2J3CBL0uXkDxvFbQqEA2RZ8?usp=sharing\n",
        "\n",
        "Convnet Version 2:\n",
        "https://colab.research.google.com/drive/18VDKsYCwFabC5S0JbLIpfYqtwFoI1ods?usp=sharing\n",
        "\n",
        "Mobilenet with duplicates:\n",
        "https://colab.research.google.com/drive/1EjDcpyYMvqtEFA3HZlU7YwHbE-8quRsg#scrollTo=R5_LkrumADjs\n",
        "\n",
        "Mobilenet without duplicates:\n",
        "https://colab.research.google.com/drive/1fKCXMn5Rh208XLWGKpmZKMv8jTtOsPry#scrollTo=9JOliE9iaFbY\n",
        "\n",
        "Resnet50 (15 unfrozen layers):\n",
        "https://colab.research.google.com/drive/1h8blEwSiw5IxcbO4aC4lPStHSLc2nTQ1?usp=sharing\n",
        "\n",
        "Resnet50 (22 unfrozen layers):\n",
        "https://colab.research.google.com/drive/1nkYIhVAP3QmIF9HYXFdherwEXxKEwBqA?usp=sharing\n"
      ]
    },
    {
      "cell_type": "markdown",
      "metadata": {
        "id": "iLE3U-X6OpR-"
      },
      "source": [
        "# Data\n",
        "\n",
        "### With duplicates:\n",
        "Trainset: https://www.dropbox.com/s/u59pookz75oiqg8/images_trainset2.zip?dl=0\n",
        "\n",
        "Testset: https://www.dropbox.com/s/yjvf1481lx6iw4x/images_testset2.zip?dl=0\n",
        "\n",
        "### Without duplicates:\n",
        "Trainset: https://www.dropbox.com/s/rjhcvbk1dgyhjre/images_trainset.zip?dl=0\n",
        "\n",
        "Testset: https://www.dropbox.com/s/ewpkvkdypoalvei/images_testset.zip?dl=0"
      ]
    }
  ]
}